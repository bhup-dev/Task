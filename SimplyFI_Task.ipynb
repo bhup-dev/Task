{
 "cells": [
  {
   "cell_type": "raw",
   "id": "9f0c2070",
   "metadata": {},
   "source": [
    "Write a python code for converting integer values to Indian currency notations, without\n",
    "using the currency libraries\n",
    "Example:\n",
    "input: 504678\n",
    "output: 5,04,678"
   ]
  },
  {
   "cell_type": "code",
   "execution_count": 8,
   "id": "67774efc",
   "metadata": {},
   "outputs": [
    {
     "name": "stdout",
     "output_type": "stream",
     "text": [
      "235413\n",
      "2,35,413\n"
     ]
    }
   ],
   "source": [
    "def to_indian_currency_notation(number):\n",
    "    # Convert number to string\n",
    "    num_str = str(number)\n",
    "    \n",
    "    # Handle the case where the number is less than a lakh\n",
    "    if len(num_str) <= 3:\n",
    "        return num_str\n",
    "    \n",
    "    # Split the number into the part before the last lakh and the last lakh part\n",
    "    last_three_digits = num_str[-3:]\n",
    "    remaining_digits = num_str[:-3]\n",
    "    \n",
    "    # Reverse the remaining digits to process them from the end\n",
    "    reversed_remaining = remaining_digits[::-1]\n",
    "    \n",
    "    # Insert commas every 2 digits\n",
    "    grouped_reversed = ','.join(reversed_remaining[i:i+2] for i in range(0, len(reversed_remaining), 2))\n",
    "    \n",
    "    # Reverse the string back to the original order and append the last three digits\n",
    "    formatted_number = grouped_reversed[::-1] + ',' + last_three_digits\n",
    "    \n",
    "    return formatted_number\n",
    "\n",
    "# Example usage\n",
    "number = input()\n",
    "print(to_indian_currency_notation(number))  \n"
   ]
  },
  {
   "cell_type": "code",
   "execution_count": 9,
   "id": "ee00e742",
   "metadata": {},
   "outputs": [
    {
     "name": "stdout",
     "output_type": "stream",
     "text": [
      "1\n",
      "4 10\n",
      "2 13 4 16\n",
      "Minimum Players to remove are: 2\n"
     ]
    }
   ],
   "source": [
    "#Question Number two solution\n",
    "n = int(input())\n",
    "\n",
    "for i in range(n):\n",
    "\n",
    "   c = 0\n",
    "\n",
    "   n,k = list(map(int,input().split()))\n",
    "\n",
    "   heights = list(map(int,input().split()))\n",
    "\n",
    "   for i in heights:\n",
    "\n",
    "       if i > k:\n",
    "\n",
    "           c+=1\n",
    "\n",
    "   print(\"Minimum Players to remove are: \"+ str(c))"
   ]
  }
 ],
 "metadata": {
  "kernelspec": {
   "display_name": "Python 3 (ipykernel)",
   "language": "python",
   "name": "python3"
  },
  "language_info": {
   "codemirror_mode": {
    "name": "ipython",
    "version": 3
   },
   "file_extension": ".py",
   "mimetype": "text/x-python",
   "name": "python",
   "nbconvert_exporter": "python",
   "pygments_lexer": "ipython3",
   "version": "3.9.7"
  }
 },
 "nbformat": 4,
 "nbformat_minor": 5
}
